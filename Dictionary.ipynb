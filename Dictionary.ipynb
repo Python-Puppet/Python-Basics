{
  "nbformat": 4,
  "nbformat_minor": 0,
  "metadata": {
    "colab": {
      "provenance": [],
      "authorship_tag": "ABX9TyNsLTnajaStdm6PqmSeO2y0",
      "include_colab_link": true
    },
    "kernelspec": {
      "name": "python3",
      "display_name": "Python 3"
    },
    "language_info": {
      "name": "python"
    }
  },
  "cells": [
    {
      "cell_type": "markdown",
      "metadata": {
        "id": "view-in-github",
        "colab_type": "text"
      },
      "source": [
        "<a href=\"https://colab.research.google.com/github/Python-Puppet/Python-Basics/blob/main/Dictionary.ipynb\" target=\"_parent\"><img src=\"https://colab.research.google.com/assets/colab-badge.svg\" alt=\"Open In Colab\"/></a>"
      ]
    },
    {
      "cell_type": "markdown",
      "source": [
        "### Creating dictionaries"
      ],
      "metadata": {
        "id": "FXcNrvs48qbk"
      }
    },
    {
      "cell_type": "code",
      "execution_count": 1,
      "metadata": {
        "id": "UlfdNZqY8Cev"
      },
      "outputs": [],
      "source": [
        "d ={} # empty dictionary"
      ]
    },
    {
      "cell_type": "code",
      "source": [
        "d1 = {\"Alex\":123456,\"Morty\":2345,\"Gloria\":\"no mobile\"}"
      ],
      "metadata": {
        "id": "_go7Ma7-87_j"
      },
      "execution_count": 2,
      "outputs": []
    },
    {
      "cell_type": "code",
      "source": [
        "d2 = {\"Melman\":{\"home\":98665,\"emergency\":87654},\"doctor\":765} #nested"
      ],
      "metadata": {
        "id": "srOMmci79MeW"
      },
      "execution_count": 3,
      "outputs": []
    },
    {
      "cell_type": "markdown",
      "source": [
        "keyword dict"
      ],
      "metadata": {
        "id": "FA6Bt8uT9uDp"
      }
    },
    {
      "cell_type": "code",
      "source": [
        "dict(name=\"zoo\",contact=777)"
      ],
      "metadata": {
        "colab": {
          "base_uri": "https://localhost:8080/"
        },
        "id": "bmZlAXlo9fiX",
        "outputId": "8676caa6-d306-46df-b4ea-cc7fd9d8c60a"
      },
      "execution_count": 4,
      "outputs": [
        {
          "output_type": "execute_result",
          "data": {
            "text/plain": [
              "{'name': 'zoo', 'contact': 777}"
            ]
          },
          "metadata": {},
          "execution_count": 4
        }
      ]
    },
    {
      "cell_type": "markdown",
      "source": [
        "### Indexing"
      ],
      "metadata": {
        "id": "p0OZLMNO-KMf"
      }
    },
    {
      "cell_type": "code",
      "source": [
        "d1[\"Morty\"]"
      ],
      "metadata": {
        "colab": {
          "base_uri": "https://localhost:8080/"
        },
        "id": "X36OSNpE9975",
        "outputId": "5a3f5782-b1ed-4525-fbc9-22bae75c886f",
        "collapsed": true
      },
      "execution_count": 5,
      "outputs": [
        {
          "output_type": "execute_result",
          "data": {
            "text/plain": [
              "2345"
            ]
          },
          "metadata": {},
          "execution_count": 5
        }
      ]
    },
    {
      "cell_type": "code",
      "source": [
        "d2[\"Melman\"]"
      ],
      "metadata": {
        "id": "JEa3dl-jzu-X",
        "colab": {
          "base_uri": "https://localhost:8080/"
        },
        "outputId": "48133fb5-29b2-4ae1-8d63-74c881f7f776"
      },
      "execution_count": 6,
      "outputs": [
        {
          "output_type": "execute_result",
          "data": {
            "text/plain": [
              "{'home': 98665, 'emergency': 87654}"
            ]
          },
          "metadata": {},
          "execution_count": 6
        }
      ]
    },
    {
      "cell_type": "code",
      "source": [
        "d2[\"Melman\"][\"home\"]"
      ],
      "metadata": {
        "colab": {
          "base_uri": "https://localhost:8080/"
        },
        "id": "6POY3T6l-Vfb",
        "outputId": "35d752be-8291-44d3-8ca0-a38d3738e0d7"
      },
      "execution_count": 7,
      "outputs": [
        {
          "output_type": "execute_result",
          "data": {
            "text/plain": [
              "98665"
            ]
          },
          "metadata": {},
          "execution_count": 7
        }
      ]
    },
    {
      "cell_type": "markdown",
      "source": [
        "### Merging two dictionaries"
      ],
      "metadata": {
        "id": "dJTYbw9k_d3Q"
      }
    },
    {
      "cell_type": "code",
      "source": [
        "d1.update(d2) #d1 gets updated"
      ],
      "metadata": {
        "id": "mryKMdhy-mzp"
      },
      "execution_count": 9,
      "outputs": []
    },
    {
      "cell_type": "code",
      "source": [
        "d1"
      ],
      "metadata": {
        "colab": {
          "base_uri": "https://localhost:8080/"
        },
        "id": "h1_uQDcA_l7v",
        "outputId": "e04a2ef5-8a2d-49e2-cb91-96fd4f243614"
      },
      "execution_count": 10,
      "outputs": [
        {
          "output_type": "execute_result",
          "data": {
            "text/plain": [
              "{'Alex': 123456,\n",
              " 'Morty': 2345,\n",
              " 'Gloria': 'no mobile',\n",
              " 'Melman': {'home': 98665, 'emergency': 87654},\n",
              " 'doctor': 765}"
            ]
          },
          "metadata": {},
          "execution_count": 10
        }
      ]
    },
    {
      "cell_type": "markdown",
      "source": [
        "### Membership"
      ],
      "metadata": {
        "id": "s9MK_OD-_yf8"
      }
    },
    {
      "cell_type": "code",
      "source": [
        "\"doctor\" in d1"
      ],
      "metadata": {
        "colab": {
          "base_uri": "https://localhost:8080/"
        },
        "id": "cxEJqmZj_nH0",
        "outputId": "3879c505-4c76-436e-fc56-0ca67f6bcfe8"
      },
      "execution_count": 11,
      "outputs": [
        {
          "output_type": "execute_result",
          "data": {
            "text/plain": [
              "True"
            ]
          },
          "metadata": {},
          "execution_count": 11
        }
      ]
    },
    {
      "cell_type": "markdown",
      "source": [
        "### Useful functions"
      ],
      "metadata": {
        "id": "ifmTWFLHAL5h"
      }
    },
    {
      "cell_type": "code",
      "source": [
        "d1.keys()"
      ],
      "metadata": {
        "colab": {
          "base_uri": "https://localhost:8080/"
        },
        "id": "zaRbCp2x_vT5",
        "outputId": "01745260-c2b1-4638-b884-86e7222eb67e"
      },
      "execution_count": 12,
      "outputs": [
        {
          "output_type": "execute_result",
          "data": {
            "text/plain": [
              "dict_keys(['Alex', 'Morty', 'Gloria', 'Melman', 'doctor'])"
            ]
          },
          "metadata": {},
          "execution_count": 12
        }
      ]
    },
    {
      "cell_type": "code",
      "source": [
        "d1.values()"
      ],
      "metadata": {
        "colab": {
          "base_uri": "https://localhost:8080/"
        },
        "id": "AkK8TNwz_33h",
        "outputId": "7e3a2ec4-1bc6-4d0a-8ad5-0d736e13d890"
      },
      "execution_count": 13,
      "outputs": [
        {
          "output_type": "execute_result",
          "data": {
            "text/plain": [
              "dict_values([123456, 2345, 'no mobile', {'home': 98665, 'emergency': 87654}, 765])"
            ]
          },
          "metadata": {},
          "execution_count": 13
        }
      ]
    },
    {
      "cell_type": "code",
      "source": [
        "d1.items()"
      ],
      "metadata": {
        "colab": {
          "base_uri": "https://localhost:8080/"
        },
        "id": "uuohsenO_6Ce",
        "outputId": "ef9058aa-7167-4f4d-cf4e-396b7f08c75a"
      },
      "execution_count": 14,
      "outputs": [
        {
          "output_type": "execute_result",
          "data": {
            "text/plain": [
              "dict_items([('Alex', 123456), ('Morty', 2345), ('Gloria', 'no mobile'), ('Melman', {'home': 98665, 'emergency': 87654}), ('doctor', 765)])"
            ]
          },
          "metadata": {},
          "execution_count": 14
        }
      ]
    },
    {
      "cell_type": "markdown",
      "source": [
        "### Delete items"
      ],
      "metadata": {
        "id": "T-RzxEi8AIJ-"
      }
    },
    {
      "cell_type": "code",
      "source": [
        "d1.pop(\"Alex\")"
      ],
      "metadata": {
        "colab": {
          "base_uri": "https://localhost:8080/"
        },
        "id": "5Lj69Vsy__9Z",
        "outputId": "e1e028cf-f46f-4f31-986f-c22b72bdf285"
      },
      "execution_count": 15,
      "outputs": [
        {
          "output_type": "execute_result",
          "data": {
            "text/plain": [
              "123456"
            ]
          },
          "metadata": {},
          "execution_count": 15
        }
      ]
    },
    {
      "cell_type": "markdown",
      "source": [
        "### Update"
      ],
      "metadata": {
        "id": "Rt4VEBQ8Alqg"
      }
    },
    {
      "cell_type": "code",
      "source": [
        "d1[\"Gloria\"] = 9876\n"
      ],
      "metadata": {
        "id": "IzeYvNV1Ak9S",
        "collapsed": true
      },
      "execution_count": 16,
      "outputs": []
    },
    {
      "cell_type": "markdown",
      "source": [
        "What doesnt work with dictionaries"
      ],
      "metadata": {
        "id": "kbGirh2T1gTh"
      }
    },
    {
      "cell_type": "code",
      "source": [
        "d1[1]"
      ],
      "metadata": {
        "id": "ewkPLNwCAjXr",
        "colab": {
          "base_uri": "https://localhost:8080/",
          "height": 176
        },
        "outputId": "c52519e3-4323-42cf-e27b-c370c2be078e"
      },
      "execution_count": 17,
      "outputs": [
        {
          "output_type": "error",
          "ename": "KeyError",
          "evalue": "ignored",
          "traceback": [
            "\u001b[0;31m---------------------------------------------------------------------------\u001b[0m",
            "\u001b[0;31mKeyError\u001b[0m                                  Traceback (most recent call last)",
            "\u001b[0;32m<ipython-input-17-b333f2df0ab4>\u001b[0m in \u001b[0;36m<cell line: 1>\u001b[0;34m()\u001b[0m\n\u001b[0;32m----> 1\u001b[0;31m \u001b[0md1\u001b[0m\u001b[0;34m[\u001b[0m\u001b[0;36m1\u001b[0m\u001b[0;34m]\u001b[0m\u001b[0;34m\u001b[0m\u001b[0;34m\u001b[0m\u001b[0m\n\u001b[0m",
            "\u001b[0;31mKeyError\u001b[0m: 1"
          ]
        }
      ]
    },
    {
      "cell_type": "code",
      "source": [
        "d1+d2"
      ],
      "metadata": {
        "id": "9i8wSAOQ11JT",
        "colab": {
          "base_uri": "https://localhost:8080/",
          "height": 176
        },
        "outputId": "370ae740-cfe3-483c-a32b-f7dd3cd1932d"
      },
      "execution_count": 18,
      "outputs": [
        {
          "output_type": "error",
          "ename": "TypeError",
          "evalue": "ignored",
          "traceback": [
            "\u001b[0;31m---------------------------------------------------------------------------\u001b[0m",
            "\u001b[0;31mTypeError\u001b[0m                                 Traceback (most recent call last)",
            "\u001b[0;32m<ipython-input-18-686adf62153a>\u001b[0m in \u001b[0;36m<cell line: 1>\u001b[0;34m()\u001b[0m\n\u001b[0;32m----> 1\u001b[0;31m \u001b[0md1\u001b[0m\u001b[0;34m+\u001b[0m\u001b[0md2\u001b[0m\u001b[0;34m\u001b[0m\u001b[0;34m\u001b[0m\u001b[0m\n\u001b[0m",
            "\u001b[0;31mTypeError\u001b[0m: unsupported operand type(s) for +: 'dict' and 'dict'"
          ]
        }
      ]
    },
    {
      "cell_type": "code",
      "source": [],
      "metadata": {
        "id": "OyFEH3VpRNos"
      },
      "execution_count": null,
      "outputs": []
    }
  ]
}