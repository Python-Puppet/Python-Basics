{
  "nbformat": 4,
  "nbformat_minor": 0,
  "metadata": {
    "colab": {
      "provenance": [],
      "authorship_tag": "ABX9TyNEy7TuhYVba2B1YorJV4wQ",
      "include_colab_link": true
    },
    "kernelspec": {
      "name": "python3",
      "display_name": "Python 3"
    },
    "language_info": {
      "name": "python"
    }
  },
  "cells": [
    {
      "cell_type": "markdown",
      "metadata": {
        "id": "view-in-github",
        "colab_type": "text"
      },
      "source": [
        "<a href=\"https://colab.research.google.com/github/Python-Puppet/Python-Basics/blob/main/filter_map_zip.ipynb\" target=\"_parent\"><img src=\"https://colab.research.google.com/assets/colab-badge.svg\" alt=\"Open In Colab\"/></a>"
      ]
    },
    {
      "cell_type": "markdown",
      "source": [
        "# lambda"
      ],
      "metadata": {
        "id": "f_wOpGw0i36j"
      }
    },
    {
      "cell_type": "markdown",
      "source": [
        "regular function example"
      ],
      "metadata": {
        "id": "TlMXXuE19Ikg"
      }
    },
    {
      "cell_type": "code",
      "source": [
        "def add(x):\n",
        "  return x+2"
      ],
      "metadata": {
        "id": "XfEjYB0JjPDt"
      },
      "execution_count": null,
      "outputs": []
    },
    {
      "cell_type": "markdown",
      "source": [
        "lambda function example"
      ],
      "metadata": {
        "id": "3u0mvcde9Npp"
      }
    },
    {
      "cell_type": "code",
      "source": [
        "add_2 = lambda x: x+2"
      ],
      "metadata": {
        "id": "Qvzkpewsi7dX"
      },
      "execution_count": null,
      "outputs": []
    },
    {
      "cell_type": "code",
      "source": [
        "add(5), add_2(5)"
      ],
      "metadata": {
        "id": "x5wLjGG7jIgL",
        "colab": {
          "base_uri": "https://localhost:8080/"
        },
        "outputId": "3149dd65-91d0-40e8-c30c-8b0dadbcb231"
      },
      "execution_count": null,
      "outputs": [
        {
          "output_type": "execute_result",
          "data": {
            "text/plain": [
              "(7, 7)"
            ]
          },
          "metadata": {},
          "execution_count": 3
        }
      ]
    },
    {
      "cell_type": "markdown",
      "source": [
        "#filter"
      ],
      "metadata": {
        "id": "nIq40gJhYXQi"
      }
    },
    {
      "cell_type": "code",
      "execution_count": null,
      "metadata": {
        "id": "gTpRsg6cYPCJ",
        "colab": {
          "base_uri": "https://localhost:8080/"
        },
        "outputId": "e5f06538-ddba-4d03-dd78-bb4434628826"
      },
      "outputs": [
        {
          "output_type": "execute_result",
          "data": {
            "text/plain": [
              "<filter at 0x7e56000f1420>"
            ]
          },
          "metadata": {},
          "execution_count": 4
        }
      ],
      "source": [
        "filter(lambda x: x%2, range(20))"
      ]
    },
    {
      "cell_type": "code",
      "source": [
        "list(filter(lambda x: x%2, range(20)))"
      ],
      "metadata": {
        "id": "LyzmMhEfY3gk",
        "colab": {
          "base_uri": "https://localhost:8080/"
        },
        "outputId": "16f78604-7769-4755-984b-2335bdff3e1b"
      },
      "execution_count": null,
      "outputs": [
        {
          "output_type": "execute_result",
          "data": {
            "text/plain": [
              "[1, 3, 5, 7, 9, 11, 13, 15, 17, 19]"
            ]
          },
          "metadata": {},
          "execution_count": 5
        }
      ]
    },
    {
      "cell_type": "markdown",
      "source": [
        "# map"
      ],
      "metadata": {
        "id": "EYnWSb9Oke-T"
      }
    },
    {
      "cell_type": "code",
      "source": [
        "map(lambda x: x//5, range(25))"
      ],
      "metadata": {
        "id": "RPO06m_fi0OZ",
        "colab": {
          "base_uri": "https://localhost:8080/"
        },
        "outputId": "86fb77e4-f40a-4102-a1b5-346d29ad49c4"
      },
      "execution_count": null,
      "outputs": [
        {
          "output_type": "execute_result",
          "data": {
            "text/plain": [
              "<map at 0x7e56000f1ae0>"
            ]
          },
          "metadata": {},
          "execution_count": 6
        }
      ]
    },
    {
      "cell_type": "code",
      "source": [
        "list(map(lambda x: x%5, range(10)))"
      ],
      "metadata": {
        "id": "j47UzIIDkrBB",
        "colab": {
          "base_uri": "https://localhost:8080/"
        },
        "outputId": "8e144271-ec6f-4d44-9163-ed5ff30c41ea"
      },
      "execution_count": null,
      "outputs": [
        {
          "output_type": "execute_result",
          "data": {
            "text/plain": [
              "[0, 1, 2, 3, 4, 0, 1, 2, 3, 4]"
            ]
          },
          "metadata": {},
          "execution_count": 7
        }
      ]
    },
    {
      "cell_type": "markdown",
      "source": [
        "#zip"
      ],
      "metadata": {
        "id": "HIqg0cPplBRf"
      }
    },
    {
      "cell_type": "code",
      "source": [
        "bakery= [\"Doughnut\",\"Cake\",\"Muffin\",\"Sandwich\"]\n",
        "zip(range(5),bakery)"
      ],
      "metadata": {
        "collapsed": true,
        "id": "wg6s7X0AkunR",
        "colab": {
          "base_uri": "https://localhost:8080/"
        },
        "outputId": "0a2d9cbf-4217-4bfa-b60a-82e3a2daed0e"
      },
      "execution_count": null,
      "outputs": [
        {
          "output_type": "execute_result",
          "data": {
            "text/plain": [
              "<zip at 0x7e560011a300>"
            ]
          },
          "metadata": {},
          "execution_count": 8
        }
      ]
    },
    {
      "cell_type": "code",
      "source": [
        "list(zip(range(5),bakery))"
      ],
      "metadata": {
        "id": "EZYXzI_wl1Z4",
        "colab": {
          "base_uri": "https://localhost:8080/"
        },
        "outputId": "761c2697-4fb9-43f1-c590-5ffcdd020309"
      },
      "execution_count": null,
      "outputs": [
        {
          "output_type": "execute_result",
          "data": {
            "text/plain": [
              "[(0, 'Doughnut'), (1, 'Cake'), (2, 'Muffin'), (3, 'Sandwich')]"
            ]
          },
          "metadata": {},
          "execution_count": 9
        }
      ]
    },
    {
      "cell_type": "code",
      "source": [
        "dict(zip(range(5),bakery))"
      ],
      "metadata": {
        "id": "B2GbM47ql5u1",
        "colab": {
          "base_uri": "https://localhost:8080/"
        },
        "outputId": "3cec1d46-4066-4c16-8bf7-06d2046f271c"
      },
      "execution_count": null,
      "outputs": [
        {
          "output_type": "execute_result",
          "data": {
            "text/plain": [
              "{0: 'Doughnut', 1: 'Cake', 2: 'Muffin', 3: 'Sandwich'}"
            ]
          },
          "metadata": {},
          "execution_count": 10
        }
      ]
    },
    {
      "cell_type": "markdown",
      "source": [
        "#reduce"
      ],
      "metadata": {
        "id": "CdX7gpXqdK3z"
      }
    },
    {
      "cell_type": "code",
      "source": [
        "from functools import reduce"
      ],
      "metadata": {
        "id": "MU5ayHJxl-xO"
      },
      "execution_count": null,
      "outputs": []
    },
    {
      "cell_type": "code",
      "source": [
        "reduce(lambda x,y: x*y, range(1,5))"
      ],
      "metadata": {
        "colab": {
          "base_uri": "https://localhost:8080/"
        },
        "id": "kKYsvAzhdSQw",
        "outputId": "ef74c7b6-0ea3-45b3-916f-8a7d98a6a976"
      },
      "execution_count": null,
      "outputs": [
        {
          "output_type": "execute_result",
          "data": {
            "text/plain": [
              "24"
            ]
          },
          "metadata": {},
          "execution_count": 12
        }
      ]
    },
    {
      "cell_type": "code",
      "source": [],
      "metadata": {
        "id": "OPyjNpVqd0gO"
      },
      "execution_count": null,
      "outputs": []
    }
  ]
}