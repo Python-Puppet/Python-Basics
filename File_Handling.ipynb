{
  "nbformat": 4,
  "nbformat_minor": 0,
  "metadata": {
    "colab": {
      "provenance": [],
      "authorship_tag": "ABX9TyO3tprAlNXmOURRg/89YPti",
      "include_colab_link": true
    },
    "kernelspec": {
      "name": "python3",
      "display_name": "Python 3"
    },
    "language_info": {
      "name": "python"
    }
  },
  "cells": [
    {
      "cell_type": "markdown",
      "metadata": {
        "id": "view-in-github",
        "colab_type": "text"
      },
      "source": [
        "<a href=\"https://colab.research.google.com/github/Python-Puppet/Python-Basics/blob/main/File_Handling.ipynb\" target=\"_parent\"><img src=\"https://colab.research.google.com/assets/colab-badge.svg\" alt=\"Open In Colab\"/></a>"
      ]
    },
    {
      "cell_type": "markdown",
      "source": [
        "Common opertions on a file\n",
        "\n",
        "*   create\n",
        "*   open\n",
        "*   write\n",
        "*   read\n",
        "*   append"
      ],
      "metadata": {
        "id": "ayuzv4hoaI9V"
      }
    },
    {
      "cell_type": "markdown",
      "source": [
        "# Opening a file\n",
        "\n",
        "open(filename, mode)"
      ],
      "metadata": {
        "id": "VUKRD1pXuceE"
      }
    },
    {
      "cell_type": "code",
      "execution_count": 152,
      "metadata": {
        "id": "NGSPi6wZuUM7"
      },
      "outputs": [],
      "source": [
        "my_file = open(\"/content/sample_data/README.md\",\"r\")"
      ]
    },
    {
      "cell_type": "markdown",
      "source": [
        "# Read a file\n",
        "\n",
        "1.   whole file\n",
        "2.   Line by line\n",
        "3.   \"n\" characters or bytes\n",
        "\n",
        "\n",
        "\n",
        "\n",
        "\n",
        "\n"
      ],
      "metadata": {
        "id": "PuAcjQuxvGUg"
      }
    },
    {
      "cell_type": "code",
      "source": [
        "whole_file  = my_file.read() # whole file as a string\n",
        "whole_file"
      ],
      "metadata": {
        "colab": {
          "base_uri": "https://localhost:8080/",
          "height": 156
        },
        "id": "J9fZ4jHeu9Pn",
        "outputId": "74626d8b-42e1-4d08-dac9-aad8db9d8e02"
      },
      "execution_count": 153,
      "outputs": [
        {
          "output_type": "execute_result",
          "data": {
            "text/plain": [
              "\"This directory includes a few sample datasets to get you started.\\n\\n*   `california_housing_data*.csv` is California housing data from the 1990 US\\n    Census; more information is available at:\\n    https://developers.google.com/machine-learning/crash-course/california-housing-data-description\\n\\n*   `mnist_*.csv` is a small sample of the\\n    [MNIST database](https://en.wikipedia.org/wiki/MNIST_database), which is\\n    described at: http://yann.lecun.com/exdb/mnist/\\n\\n*   `anscombe.json` contains a copy of\\n    [Anscombe's quartet](https://en.wikipedia.org/wiki/Anscombe%27s_quartet); it\\n    was originally described in\\n\\n    Anscombe, F. J. (1973). 'Graphs in Statistical Analysis'. American\\n    Statistician. 27 (1): 17-21. JSTOR 2682899.\\n\\n    and our copy was prepared by the\\n    [vega_datasets library](https://github.com/altair-viz/vega_datasets/blob/4f67bdaad10f45e3549984e17e1b3088c731503d/vega_datasets/_data/anscombe.json).\\n\""
            ],
            "application/vnd.google.colaboratory.intrinsic+json": {
              "type": "string"
            }
          },
          "metadata": {},
          "execution_count": 153
        }
      ]
    },
    {
      "cell_type": "code",
      "source": [
        "my_file = open(\"/content/sample_data/README.md\",\"r\")\n",
        "nchars = my_file.read(10) #read the specified number of\n",
        "nchars"
      ],
      "metadata": {
        "colab": {
          "base_uri": "https://localhost:8080/",
          "height": 35
        },
        "id": "tXY7UD2C2-pR",
        "outputId": "2159abb0-7e44-43ac-e4e6-5020df117880"
      },
      "execution_count": 154,
      "outputs": [
        {
          "output_type": "execute_result",
          "data": {
            "text/plain": [
              "'This direc'"
            ],
            "application/vnd.google.colaboratory.intrinsic+json": {
              "type": "string"
            }
          },
          "metadata": {},
          "execution_count": 154
        }
      ]
    },
    {
      "cell_type": "code",
      "source": [
        "my_file = open(\"/content/sample_data/README.md\",\"r\")\n",
        "one_line = my_file.readline() # read one line\n",
        "one_line"
      ],
      "metadata": {
        "colab": {
          "base_uri": "https://localhost:8080/",
          "height": 35
        },
        "id": "t9mV1RdR0iCn",
        "outputId": "73459b10-f0cc-4c87-cf61-ade15b080c61"
      },
      "execution_count": 155,
      "outputs": [
        {
          "output_type": "execute_result",
          "data": {
            "text/plain": [
              "'This directory includes a few sample datasets to get you started.\\n'"
            ],
            "application/vnd.google.colaboratory.intrinsic+json": {
              "type": "string"
            }
          },
          "metadata": {},
          "execution_count": 155
        }
      ]
    },
    {
      "cell_type": "code",
      "source": [
        "my_file = open(\"/content/sample_data/README.md\",\"r\")\n",
        "many_lines = my_file.readlines() #read whole files as a list of lines\n",
        "many_lines"
      ],
      "metadata": {
        "colab": {
          "base_uri": "https://localhost:8080/"
        },
        "id": "-nsIggNq0tlM",
        "outputId": "8f843a9e-d490-473f-f992-d6742096a490"
      },
      "execution_count": 156,
      "outputs": [
        {
          "output_type": "execute_result",
          "data": {
            "text/plain": [
              "['This directory includes a few sample datasets to get you started.\\n',\n",
              " '\\n',\n",
              " '*   `california_housing_data*.csv` is California housing data from the 1990 US\\n',\n",
              " '    Census; more information is available at:\\n',\n",
              " '    https://developers.google.com/machine-learning/crash-course/california-housing-data-description\\n',\n",
              " '\\n',\n",
              " '*   `mnist_*.csv` is a small sample of the\\n',\n",
              " '    [MNIST database](https://en.wikipedia.org/wiki/MNIST_database), which is\\n',\n",
              " '    described at: http://yann.lecun.com/exdb/mnist/\\n',\n",
              " '\\n',\n",
              " '*   `anscombe.json` contains a copy of\\n',\n",
              " \"    [Anscombe's quartet](https://en.wikipedia.org/wiki/Anscombe%27s_quartet); it\\n\",\n",
              " '    was originally described in\\n',\n",
              " '\\n',\n",
              " \"    Anscombe, F. J. (1973). 'Graphs in Statistical Analysis'. American\\n\",\n",
              " '    Statistician. 27 (1): 17-21. JSTOR 2682899.\\n',\n",
              " '\\n',\n",
              " '    and our copy was prepared by the\\n',\n",
              " '    [vega_datasets library](https://github.com/altair-viz/vega_datasets/blob/4f67bdaad10f45e3549984e17e1b3088c731503d/vega_datasets/_data/anscombe.json).\\n']"
            ]
          },
          "metadata": {},
          "execution_count": 156
        }
      ]
    },
    {
      "cell_type": "markdown",
      "source": [
        "# Create a file"
      ],
      "metadata": {
        "id": "RoG_EI-y3pYX"
      }
    },
    {
      "cell_type": "markdown",
      "source": [
        "Useful link for different modes to open the file in\n",
        "https://docs.python.org/3/library/functions.html#open"
      ],
      "metadata": {
        "id": "GtOj9qj898mO"
      }
    },
    {
      "cell_type": "code",
      "source": [
        "ex_file = open(\"example.txt\",\"w\") # creates and overwrites an existing file\n",
        "# ex_file.read() #will throw error"
      ],
      "metadata": {
        "id": "JV8VJsjj3n-L"
      },
      "execution_count": 157,
      "outputs": []
    },
    {
      "cell_type": "code",
      "source": [],
      "metadata": {
        "id": "sLZsonMFalpk"
      },
      "execution_count": null,
      "outputs": []
    },
    {
      "cell_type": "markdown",
      "source": [
        "# Writing onto a file"
      ],
      "metadata": {
        "id": "k6OcfHQu3W47"
      }
    },
    {
      "cell_type": "code",
      "source": [
        "ex_file.write(\"First line\" + '\\n')\n",
        "ex_file.close() # closes the file"
      ],
      "metadata": {
        "id": "jHxQrOKJ1Iqv"
      },
      "execution_count": 158,
      "outputs": []
    },
    {
      "cell_type": "code",
      "source": [
        "#let's check to see if the line has been written\n",
        "ex_file = open(\"example.txt\",\"r\")\n",
        "ex_file.read()\n",
        "ex_file.close()"
      ],
      "metadata": {
        "id": "5SB7Jv5e3-Yr"
      },
      "execution_count": 159,
      "outputs": []
    },
    {
      "cell_type": "code",
      "source": [
        "ex_file = open(\"example.txt\",\"a\") #append mode will not overwrite the file\n",
        "ex_file.write(\"Second line\")\n",
        "ex_file.close()"
      ],
      "metadata": {
        "id": "DIixObTO4_YS"
      },
      "execution_count": 160,
      "outputs": []
    },
    {
      "cell_type": "code",
      "source": [
        "ex_file = open(\"example.txt\",\"r\")\n",
        "ex_file.read()"
      ],
      "metadata": {
        "colab": {
          "base_uri": "https://localhost:8080/",
          "height": 35
        },
        "id": "JW32V_P85B5d",
        "outputId": "b768e452-5342-445e-bbc0-7ad0fbd91c04"
      },
      "execution_count": 161,
      "outputs": [
        {
          "output_type": "execute_result",
          "data": {
            "text/plain": [
              "'First line\\nSecond line'"
            ],
            "application/vnd.google.colaboratory.intrinsic+json": {
              "type": "string"
            }
          },
          "metadata": {},
          "execution_count": 161
        }
      ]
    },
    {
      "cell_type": "code",
      "source": [
        "# ex_file = open(\"example.txt\",\"x\")\n",
        "ex_file = open(\"example1.txt\",\"x\")\n",
        "ex_file.writelines([\" Third line\",\"'\\n'\",\" Fourth line\"])\n",
        "ex_file.close()\n",
        "ex_file = open(\"example1.txt\",\"r\")\n",
        "ex_file.read()"
      ],
      "metadata": {
        "colab": {
          "base_uri": "https://localhost:8080/",
          "height": 35
        },
        "id": "UMGz6QHh_LyR",
        "outputId": "710b6f26-26eb-4455-99bf-c768bbc2cdb0"
      },
      "execution_count": 163,
      "outputs": [
        {
          "output_type": "execute_result",
          "data": {
            "text/plain": [
              "\" Third line'\\n' Fourth line\""
            ],
            "application/vnd.google.colaboratory.intrinsic+json": {
              "type": "string"
            }
          },
          "metadata": {},
          "execution_count": 163
        }
      ]
    },
    {
      "cell_type": "markdown",
      "source": [
        "# With keyword"
      ],
      "metadata": {
        "id": "BqL64NXDZsm6"
      }
    },
    {
      "cell_type": "code",
      "source": [
        "with open(\"example1.txt\",\"a\") as f:\n",
        "  f.write(\"Fifth line\")\n",
        "  f.write(\"\\n\")\n",
        "\n"
      ],
      "metadata": {
        "id": "67GfJmNtCTK-"
      },
      "execution_count": 164,
      "outputs": []
    },
    {
      "cell_type": "code",
      "source": [
        "ex_file = open(\"example1.txt\",\"r\")\n",
        "ex_file.read()"
      ],
      "metadata": {
        "colab": {
          "base_uri": "https://localhost:8080/",
          "height": 35
        },
        "id": "vP_ZxfejDjXz",
        "outputId": "3c1981d4-2e6f-4519-9332-60c1df825a93"
      },
      "execution_count": 165,
      "outputs": [
        {
          "output_type": "execute_result",
          "data": {
            "text/plain": [
              "\" Third line'\\n' Fourth lineFifth line\\n\""
            ],
            "application/vnd.google.colaboratory.intrinsic+json": {
              "type": "string"
            }
          },
          "metadata": {},
          "execution_count": 165
        }
      ]
    },
    {
      "cell_type": "markdown",
      "source": [
        "# for loop"
      ],
      "metadata": {
        "id": "4-K-nzpVZ2m8"
      }
    },
    {
      "cell_type": "code",
      "source": [
        "for line in open(\"example1.txt\",\"r\"):\n",
        "  print(\"Read from file\"+line)"
      ],
      "metadata": {
        "colab": {
          "base_uri": "https://localhost:8080/"
        },
        "id": "f2LjqsgODqw-",
        "outputId": "7b57d4cb-72e2-4d2c-f307-88273b18191a"
      },
      "execution_count": 166,
      "outputs": [
        {
          "output_type": "stream",
          "name": "stdout",
          "text": [
            "Read from file Third line'\n",
            "\n",
            "Read from file' Fourth lineFifth line\n",
            "\n"
          ]
        }
      ]
    },
    {
      "cell_type": "code",
      "source": [],
      "metadata": {
        "id": "WloB3MN_EHw3"
      },
      "execution_count": null,
      "outputs": []
    }
  ]
}