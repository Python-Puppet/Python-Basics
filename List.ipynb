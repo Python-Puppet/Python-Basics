{
  "nbformat": 4,
  "nbformat_minor": 0,
  "metadata": {
    "colab": {
      "provenance": [],
      "authorship_tag": "ABX9TyPcozPdcmCIrXFw0GowmTTt",
      "include_colab_link": true
    },
    "kernelspec": {
      "name": "python3",
      "display_name": "Python 3"
    },
    "language_info": {
      "name": "python"
    }
  },
  "cells": [
    {
      "cell_type": "markdown",
      "metadata": {
        "id": "view-in-github",
        "colab_type": "text"
      },
      "source": [
        "<a href=\"https://colab.research.google.com/github/Python-Puppet/Python-Basics/blob/main/List.ipynb\" target=\"_parent\"><img src=\"https://colab.research.google.com/assets/colab-badge.svg\" alt=\"Open In Colab\"/></a>"
      ]
    },
    {
      "cell_type": "markdown",
      "source": [
        "#### Creating Lists"
      ],
      "metadata": {
        "id": "kkYLSA1x9yXo"
      }
    },
    {
      "cell_type": "code",
      "execution_count": 2,
      "metadata": {
        "id": "kB3Ebkts9WDC",
        "colab": {
          "base_uri": "https://localhost:8080/"
        },
        "outputId": "fc4b67ee-c625-4bc8-80ea-b25ce0451168"
      },
      "outputs": [
        {
          "output_type": "execute_result",
          "data": {
            "text/plain": [
              "['a', 1, 'The']"
            ]
          },
          "metadata": {},
          "execution_count": 2
        }
      ],
      "source": [
        "l = [] #empty List\n",
        "l=[\"a\",1,\"The\"]\n",
        "l"
      ]
    },
    {
      "cell_type": "code",
      "source": [
        "l=[1,2,3,4,5,6,7,8,9,10]"
      ],
      "metadata": {
        "id": "zOzjOloP-1y2"
      },
      "execution_count": 3,
      "outputs": []
    },
    {
      "cell_type": "code",
      "source": [
        "range(1,11)"
      ],
      "metadata": {
        "colab": {
          "base_uri": "https://localhost:8080/"
        },
        "id": "ErnUvIzd-WNE",
        "outputId": "6dadb759-eef4-4512-89de-df88e33acd7c"
      },
      "execution_count": 4,
      "outputs": [
        {
          "output_type": "execute_result",
          "data": {
            "text/plain": [
              "range(1, 11)"
            ]
          },
          "metadata": {},
          "execution_count": 4
        }
      ]
    },
    {
      "cell_type": "code",
      "source": [
        "l =list(range(1,11))\n",
        "l"
      ],
      "metadata": {
        "colab": {
          "base_uri": "https://localhost:8080/"
        },
        "id": "0TtkBskx-H5y",
        "outputId": "ff6a75a8-f968-4daf-de81-5d6b41edac04"
      },
      "execution_count": 5,
      "outputs": [
        {
          "output_type": "execute_result",
          "data": {
            "text/plain": [
              "[1, 2, 3, 4, 5, 6, 7, 8, 9, 10]"
            ]
          },
          "metadata": {},
          "execution_count": 5
        }
      ]
    },
    {
      "cell_type": "code",
      "source": [
        "l=list(1,2,3,4,5,6,7,8,9,10)"
      ],
      "metadata": {
        "colab": {
          "base_uri": "https://localhost:8080/",
          "height": 166
        },
        "id": "AmsugaFm-Aq2",
        "outputId": "50a5f01a-4686-4e4f-c085-cce377183025"
      },
      "execution_count": 6,
      "outputs": [
        {
          "output_type": "error",
          "ename": "TypeError",
          "evalue": "ignored",
          "traceback": [
            "\u001b[0;31m---------------------------------------------------------------------------\u001b[0m",
            "\u001b[0;31mTypeError\u001b[0m                                 Traceback (most recent call last)",
            "\u001b[0;32m<ipython-input-6-331647bab030>\u001b[0m in \u001b[0;36m<cell line: 1>\u001b[0;34m()\u001b[0m\n\u001b[0;32m----> 1\u001b[0;31m \u001b[0ml\u001b[0m\u001b[0;34m=\u001b[0m\u001b[0mlist\u001b[0m\u001b[0;34m(\u001b[0m\u001b[0;36m1\u001b[0m\u001b[0;34m,\u001b[0m\u001b[0;36m2\u001b[0m\u001b[0;34m,\u001b[0m\u001b[0;36m3\u001b[0m\u001b[0;34m,\u001b[0m\u001b[0;36m4\u001b[0m\u001b[0;34m,\u001b[0m\u001b[0;36m5\u001b[0m\u001b[0;34m,\u001b[0m\u001b[0;36m6\u001b[0m\u001b[0;34m,\u001b[0m\u001b[0;36m7\u001b[0m\u001b[0;34m,\u001b[0m\u001b[0;36m8\u001b[0m\u001b[0;34m,\u001b[0m\u001b[0;36m9\u001b[0m\u001b[0;34m,\u001b[0m\u001b[0;36m10\u001b[0m\u001b[0;34m)\u001b[0m\u001b[0;34m\u001b[0m\u001b[0;34m\u001b[0m\u001b[0m\n\u001b[0m",
            "\u001b[0;31mTypeError\u001b[0m: list expected at most 1 argument, got 10"
          ]
        }
      ]
    },
    {
      "cell_type": "markdown",
      "source": [
        "- Iterable is an object which can be looped over or iterated over with the help of a for loop.\n",
        "- Objects like lists, tuples, sets, dictionaries, strings, etc. are called iterables."
      ],
      "metadata": {
        "id": "l7pd5DPE_p5v"
      }
    },
    {
      "cell_type": "code",
      "source": [
        "stmt = \"This is a string\"\n",
        "list(stmt)"
      ],
      "metadata": {
        "colab": {
          "base_uri": "https://localhost:8080/"
        },
        "id": "wdzZtGOc-Z8B",
        "outputId": "e855dc4c-cb6e-44c2-fd75-a905d2f9cc4e"
      },
      "execution_count": 7,
      "outputs": [
        {
          "output_type": "execute_result",
          "data": {
            "text/plain": [
              "['T',\n",
              " 'h',\n",
              " 'i',\n",
              " 's',\n",
              " ' ',\n",
              " 'i',\n",
              " 's',\n",
              " ' ',\n",
              " 'a',\n",
              " ' ',\n",
              " 's',\n",
              " 't',\n",
              " 'r',\n",
              " 'i',\n",
              " 'n',\n",
              " 'g']"
            ]
          },
          "metadata": {},
          "execution_count": 7
        }
      ]
    },
    {
      "cell_type": "code",
      "source": [
        "l = [2,4,6,[8,10,12]] #nested lists\n",
        "l"
      ],
      "metadata": {
        "colab": {
          "base_uri": "https://localhost:8080/"
        },
        "id": "Ba7Y0HJgB5u-",
        "outputId": "5d27f07d-d35f-4790-fc66-130745b22ff2"
      },
      "execution_count": 8,
      "outputs": [
        {
          "output_type": "execute_result",
          "data": {
            "text/plain": [
              "[2, 4, 6, [8, 10, 12]]"
            ]
          },
          "metadata": {},
          "execution_count": 8
        }
      ]
    },
    {
      "cell_type": "markdown",
      "source": [
        "### Repetition"
      ],
      "metadata": {
        "id": "6IE6sQl5AqxA"
      }
    },
    {
      "cell_type": "code",
      "source": [
        "[\"*\" * 100]"
      ],
      "metadata": {
        "id": "Tv7px489LfiN",
        "colab": {
          "base_uri": "https://localhost:8080/"
        },
        "outputId": "08c9452d-426b-46d4-cc98-325c424bb801"
      },
      "execution_count": 9,
      "outputs": [
        {
          "output_type": "execute_result",
          "data": {
            "text/plain": [
              "['****************************************************************************************************']"
            ]
          },
          "metadata": {},
          "execution_count": 9
        }
      ]
    },
    {
      "cell_type": "code",
      "source": [
        "[1,2,3]* 5"
      ],
      "metadata": {
        "id": "esGo9vKULsJX",
        "colab": {
          "base_uri": "https://localhost:8080/"
        },
        "outputId": "6bc89a7f-1a72-473c-880f-c4af4e107ca2"
      },
      "execution_count": 10,
      "outputs": [
        {
          "output_type": "execute_result",
          "data": {
            "text/plain": [
              "[1, 2, 3, 1, 2, 3, 1, 2, 3, 1, 2, 3, 1, 2, 3]"
            ]
          },
          "metadata": {},
          "execution_count": 10
        }
      ]
    },
    {
      "cell_type": "markdown",
      "source": [
        "### Concatenation and growing a list"
      ],
      "metadata": {
        "id": "wF6AmmJ9AJL4"
      }
    },
    {
      "cell_type": "code",
      "source": [
        "L1 = [1,2,3]\n",
        "L2 = [4,5,6]\n",
        "L1+L2"
      ],
      "metadata": {
        "colab": {
          "base_uri": "https://localhost:8080/"
        },
        "id": "B8VSiDVv_Lzp",
        "outputId": "71fe49c8-5a24-47ec-cb7e-323cec89d400"
      },
      "execution_count": 11,
      "outputs": [
        {
          "output_type": "execute_result",
          "data": {
            "text/plain": [
              "[1, 2, 3, 4, 5, 6]"
            ]
          },
          "metadata": {},
          "execution_count": 11
        }
      ]
    },
    {
      "cell_type": "code",
      "source": [
        "L1.append(L2)\n",
        "L1"
      ],
      "metadata": {
        "colab": {
          "base_uri": "https://localhost:8080/"
        },
        "id": "PDWncYi-A1lk",
        "outputId": "895adfa3-c06f-4354-dd1f-2be421c2595a"
      },
      "execution_count": 12,
      "outputs": [
        {
          "output_type": "execute_result",
          "data": {
            "text/plain": [
              "[1, 2, 3, [4, 5, 6]]"
            ]
          },
          "metadata": {},
          "execution_count": 12
        }
      ]
    },
    {
      "cell_type": "code",
      "source": [
        "L1.extend(L2)\n",
        "L1 # Note L1 got modified"
      ],
      "metadata": {
        "colab": {
          "base_uri": "https://localhost:8080/"
        },
        "id": "0d7_9vPEBc5E",
        "outputId": "be4620a0-282d-4c0a-995e-3ddb9b98b7e3"
      },
      "execution_count": 13,
      "outputs": [
        {
          "output_type": "execute_result",
          "data": {
            "text/plain": [
              "[1, 2, 3, [4, 5, 6], 4, 5, 6]"
            ]
          },
          "metadata": {},
          "execution_count": 13
        }
      ]
    },
    {
      "cell_type": "code",
      "source": [
        "L1.insert(0,0) # insert(index,element)\n",
        "L1.insert(-1,10) #note inserts before the index mentioned\n",
        "L1"
      ],
      "metadata": {
        "colab": {
          "base_uri": "https://localhost:8080/"
        },
        "id": "Y6f3YpJZBmzu",
        "outputId": "b1d6c1bb-8f0d-4498-81ae-0b57bc99c63e"
      },
      "execution_count": 14,
      "outputs": [
        {
          "output_type": "execute_result",
          "data": {
            "text/plain": [
              "[0, 1, 2, 3, [4, 5, 6], 4, 5, 10, 6]"
            ]
          },
          "metadata": {},
          "execution_count": 14
        }
      ]
    },
    {
      "cell_type": "markdown",
      "source": [
        "### Searching"
      ],
      "metadata": {
        "id": "6BMwsEkfD7Fw"
      }
    },
    {
      "cell_type": "code",
      "source": [
        "L1.index(2)"
      ],
      "metadata": {
        "colab": {
          "base_uri": "https://localhost:8080/"
        },
        "id": "P4u4nuQUD-jX",
        "outputId": "0b90cd95-8d72-4b34-ca2b-7dfb056b4a14"
      },
      "execution_count": 15,
      "outputs": [
        {
          "output_type": "execute_result",
          "data": {
            "text/plain": [
              "2"
            ]
          },
          "metadata": {},
          "execution_count": 15
        }
      ]
    },
    {
      "cell_type": "code",
      "source": [
        "L1.count(5)"
      ],
      "metadata": {
        "colab": {
          "base_uri": "https://localhost:8080/"
        },
        "id": "AamI5fOlEx-W",
        "outputId": "5982827d-f70f-417e-929d-c89b9eb41003"
      },
      "execution_count": 16,
      "outputs": [
        {
          "output_type": "execute_result",
          "data": {
            "text/plain": [
              "1"
            ]
          },
          "metadata": {},
          "execution_count": 16
        }
      ]
    },
    {
      "cell_type": "code",
      "source": [
        "L3=[10,30,20]\n",
        "L3.sort()\n",
        "L3"
      ],
      "metadata": {
        "colab": {
          "base_uri": "https://localhost:8080/"
        },
        "id": "AgY5LAMSFAhl",
        "outputId": "13eacb68-fed5-4118-ce68-ea602ac09002"
      },
      "execution_count": 17,
      "outputs": [
        {
          "output_type": "execute_result",
          "data": {
            "text/plain": [
              "[10, 20, 30]"
            ]
          },
          "metadata": {},
          "execution_count": 17
        }
      ]
    },
    {
      "cell_type": "code",
      "source": [
        "L3.sort(reverse=True)\n",
        "# L3.reverse()\n",
        "L3"
      ],
      "metadata": {
        "colab": {
          "base_uri": "https://localhost:8080/"
        },
        "id": "YH4eE9mIGKDp",
        "outputId": "c97f27b2-a188-47a5-95ce-6babe69e71b0"
      },
      "execution_count": 18,
      "outputs": [
        {
          "output_type": "execute_result",
          "data": {
            "text/plain": [
              "[30, 20, 10]"
            ]
          },
          "metadata": {},
          "execution_count": 18
        }
      ]
    },
    {
      "cell_type": "markdown",
      "source": [
        "### Removing elements\n",
        "\n",
        "\n",
        "1.   remove\n",
        "2.   pop\n",
        "3.   del\n",
        "\n",
        "\n",
        "\n",
        "\n",
        "\n",
        "\n"
      ],
      "metadata": {
        "id": "BC7MW4s_GdOu"
      }
    },
    {
      "cell_type": "code",
      "source": [
        "L4 = list(range(0,20,2))\n",
        "L4"
      ],
      "metadata": {
        "colab": {
          "base_uri": "https://localhost:8080/"
        },
        "id": "WBFPs9VtGbw3",
        "outputId": "1770cd35-2fc1-46df-ce5a-4bf8d4964ed4"
      },
      "execution_count": 19,
      "outputs": [
        {
          "output_type": "execute_result",
          "data": {
            "text/plain": [
              "[0, 2, 4, 6, 8, 10, 12, 14, 16, 18]"
            ]
          },
          "metadata": {},
          "execution_count": 19
        }
      ]
    },
    {
      "cell_type": "code",
      "source": [
        "L4.remove(4)\n",
        "L4"
      ],
      "metadata": {
        "colab": {
          "base_uri": "https://localhost:8080/"
        },
        "id": "ei2xPbhCGwke",
        "outputId": "f1cdc135-38d4-4fb1-a669-1876284888f7"
      },
      "execution_count": 20,
      "outputs": [
        {
          "output_type": "execute_result",
          "data": {
            "text/plain": [
              "[0, 2, 6, 8, 10, 12, 14, 16, 18]"
            ]
          },
          "metadata": {},
          "execution_count": 20
        }
      ]
    },
    {
      "cell_type": "code",
      "source": [
        "L4.pop() # remove last item if no index specified"
      ],
      "metadata": {
        "colab": {
          "base_uri": "https://localhost:8080/"
        },
        "id": "CSwhYWyDG3P9",
        "outputId": "b4c05d94-b7a9-4221-f326-1571f9fdd40c"
      },
      "execution_count": 21,
      "outputs": [
        {
          "output_type": "execute_result",
          "data": {
            "text/plain": [
              "18"
            ]
          },
          "metadata": {},
          "execution_count": 21
        }
      ]
    },
    {
      "cell_type": "code",
      "source": [
        "L4.pop(0) #can specify index\n"
      ],
      "metadata": {
        "colab": {
          "base_uri": "https://localhost:8080/"
        },
        "id": "SXYZrbSBHBQ1",
        "outputId": "3681b5be-0f4a-4e9c-ca22-3108f71a360e"
      },
      "execution_count": 22,
      "outputs": [
        {
          "output_type": "execute_result",
          "data": {
            "text/plain": [
              "0"
            ]
          },
          "metadata": {},
          "execution_count": 22
        }
      ]
    },
    {
      "cell_type": "code",
      "source": [
        "L4"
      ],
      "metadata": {
        "colab": {
          "base_uri": "https://localhost:8080/"
        },
        "id": "zChSe9TqHOhL",
        "outputId": "8c62c4f7-0adf-406d-dcc7-76a8c475c592"
      },
      "execution_count": 23,
      "outputs": [
        {
          "output_type": "execute_result",
          "data": {
            "text/plain": [
              "[2, 6, 8, 10, 12, 14, 16]"
            ]
          },
          "metadata": {},
          "execution_count": 23
        }
      ]
    },
    {
      "cell_type": "code",
      "source": [
        "#specify the index at which to delete\n",
        "#difference from pop is function did not return the element\n",
        "del L4[1]"
      ],
      "metadata": {
        "id": "3p7FwDpGHjYA"
      },
      "execution_count": 24,
      "outputs": []
    },
    {
      "cell_type": "code",
      "source": [
        "L4"
      ],
      "metadata": {
        "colab": {
          "base_uri": "https://localhost:8080/"
        },
        "id": "QLVrsVXXHyeu",
        "outputId": "a01ff670-5092-49cb-e2ba-04efc08eb97c"
      },
      "execution_count": 25,
      "outputs": [
        {
          "output_type": "execute_result",
          "data": {
            "text/plain": [
              "[2, 8, 10, 12, 14, 16]"
            ]
          },
          "metadata": {},
          "execution_count": 25
        }
      ]
    },
    {
      "cell_type": "markdown",
      "source": [
        "### Indexing, replacing and slicing"
      ],
      "metadata": {
        "id": "Rrh6zINHJOv1"
      }
    },
    {
      "cell_type": "code",
      "source": [
        "L5 = list(range(5,50,5))\n",
        "L5"
      ],
      "metadata": {
        "colab": {
          "base_uri": "https://localhost:8080/"
        },
        "id": "M-aK0XVLJORB",
        "outputId": "9ff07673-53e8-4beb-dfa3-c8c8825396b8"
      },
      "execution_count": 26,
      "outputs": [
        {
          "output_type": "execute_result",
          "data": {
            "text/plain": [
              "[5, 10, 15, 20, 25, 30, 35, 40, 45]"
            ]
          },
          "metadata": {},
          "execution_count": 26
        }
      ]
    },
    {
      "cell_type": "code",
      "source": [
        "L5[0], L5[-1], L5[2]"
      ],
      "metadata": {
        "colab": {
          "base_uri": "https://localhost:8080/"
        },
        "id": "jjbxCsE3KW-u",
        "outputId": "bff9a772-a8c5-4c7d-eae6-e01584751131"
      },
      "execution_count": 27,
      "outputs": [
        {
          "output_type": "execute_result",
          "data": {
            "text/plain": [
              "(5, 45, 15)"
            ]
          },
          "metadata": {},
          "execution_count": 27
        }
      ]
    },
    {
      "cell_type": "code",
      "source": [
        "print(L5[1:7])\n",
        "print(L5[1:7:2])"
      ],
      "metadata": {
        "colab": {
          "base_uri": "https://localhost:8080/"
        },
        "id": "LYpldAA2KlkO",
        "outputId": "bc6577d1-be4f-4124-b9f6-1f90144e0dd2"
      },
      "execution_count": 29,
      "outputs": [
        {
          "output_type": "stream",
          "name": "stdout",
          "text": [
            "[10, 15, 20, 25, 30, 35]\n",
            "[10, 20, 30]\n"
          ]
        }
      ]
    },
    {
      "cell_type": "code",
      "source": [
        "L5[0] = 2\n",
        "L5"
      ],
      "metadata": {
        "colab": {
          "base_uri": "https://localhost:8080/"
        },
        "id": "ivkH_E3RKiET",
        "outputId": "df24baae-1c5b-4eca-af37-bb4d5248af33"
      },
      "execution_count": 30,
      "outputs": [
        {
          "output_type": "execute_result",
          "data": {
            "text/plain": [
              "[2, 10, 15, 20, 25, 30, 35, 40, 45]"
            ]
          },
          "metadata": {},
          "execution_count": 30
        }
      ]
    },
    {
      "cell_type": "code",
      "source": [],
      "metadata": {
        "id": "Lb0HZULKIwoi"
      },
      "execution_count": null,
      "outputs": []
    }
  ]
}