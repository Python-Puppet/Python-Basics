{
  "nbformat": 4,
  "nbformat_minor": 0,
  "metadata": {
    "colab": {
      "provenance": [],
      "authorship_tag": "ABX9TyOXLTPtmwgLyON92Y++Tbft",
      "include_colab_link": true
    },
    "kernelspec": {
      "name": "python3",
      "display_name": "Python 3"
    },
    "language_info": {
      "name": "python"
    }
  },
  "cells": [
    {
      "cell_type": "markdown",
      "metadata": {
        "id": "view-in-github",
        "colab_type": "text"
      },
      "source": [
        "<a href=\"https://colab.research.google.com/github/Python-Puppet/Python-Basics/blob/main/Statements_and_expressions_.ipynb\" target=\"_parent\"><img src=\"https://colab.research.google.com/assets/colab-badge.svg\" alt=\"Open In Colab\"/></a>"
      ]
    },
    {
      "cell_type": "markdown",
      "source": [
        "Assignment statements"
      ],
      "metadata": {
        "id": "0IoIhjoBec-s"
      }
    },
    {
      "cell_type": "code",
      "execution_count": 7,
      "metadata": {
        "colab": {
          "base_uri": "https://localhost:8080/"
        },
        "id": "i_fVJYvbM3wV",
        "outputId": "3b89aadc-af24-44f7-babb-5fd168b0ee81"
      },
      "outputs": [
        {
          "output_type": "execute_result",
          "data": {
            "text/plain": [
              "78"
            ]
          },
          "metadata": {},
          "execution_count": 7
        }
      ],
      "source": [
        "number = 78 # simple assignment\n",
        "number\n"
      ]
    },
    {
      "cell_type": "code",
      "source": [
        "rose, leaf = \"red\", \"green\" #positional assignment\n",
        "rose, leaf"
      ],
      "metadata": {
        "colab": {
          "base_uri": "https://localhost:8080/"
        },
        "id": "oVlAzf_ce9Sq",
        "outputId": "4fe13a1c-3094-4ee2-ea70-9529ad8d4e9e"
      },
      "execution_count": 8,
      "outputs": [
        {
          "output_type": "execute_result",
          "data": {
            "text/plain": [
              "('red', 'green')"
            ]
          },
          "metadata": {},
          "execution_count": 8
        }
      ]
    },
    {
      "cell_type": "code",
      "source": [
        "# swapping made easy in python\n",
        "rose, leaf = leaf,rose\n",
        "rose, leaf"
      ],
      "metadata": {
        "colab": {
          "base_uri": "https://localhost:8080/"
        },
        "id": "8hp3iA5mhMT9",
        "outputId": "9fe0e6b4-bac7-4a1b-8027-e98a7ecf6e56"
      },
      "execution_count": 9,
      "outputs": [
        {
          "output_type": "execute_result",
          "data": {
            "text/plain": [
              "('green', 'red')"
            ]
          },
          "metadata": {},
          "execution_count": 9
        }
      ]
    },
    {
      "cell_type": "code",
      "source": [
        "[Monday, Tuesday, Wednesday] = [1,2,3] #list assignment\n",
        "Tuesday"
      ],
      "metadata": {
        "colab": {
          "base_uri": "https://localhost:8080/"
        },
        "id": "bZWUV4Uke_ck",
        "outputId": "47f47cfb-0838-4dcc-9d60-5a53f0292cbb"
      },
      "execution_count": 10,
      "outputs": [
        {
          "output_type": "execute_result",
          "data": {
            "text/plain": [
              "2"
            ]
          },
          "metadata": {},
          "execution_count": 10
        }
      ]
    },
    {
      "cell_type": "code",
      "source": [
        "[Thursday, Friday, Saturday, Sunday] = range(4,8)\n",
        "Sunday"
      ],
      "metadata": {
        "colab": {
          "base_uri": "https://localhost:8080/"
        },
        "id": "C0Vownr3iNGn",
        "outputId": "e29aef8a-ca6c-4528-ae6c-3dffed92178b"
      },
      "execution_count": 11,
      "outputs": [
        {
          "output_type": "execute_result",
          "data": {
            "text/plain": [
              "7"
            ]
          },
          "metadata": {},
          "execution_count": 11
        }
      ]
    },
    {
      "cell_type": "code",
      "source": [
        "first, second, third = \"bat\" #sequence unpacking\n",
        "first, second, third"
      ],
      "metadata": {
        "colab": {
          "base_uri": "https://localhost:8080/"
        },
        "id": "Dkr_DI3BfTMA",
        "outputId": "e93b005a-1239-48ec-b2cf-4b4c59c3a243"
      },
      "execution_count": 12,
      "outputs": [
        {
          "output_type": "execute_result",
          "data": {
            "text/plain": [
              "('b', 'a', 't')"
            ]
          },
          "metadata": {},
          "execution_count": 12
        }
      ]
    },
    {
      "cell_type": "code",
      "source": [
        "init_value = final_value = 0 #multiple assignment\n",
        "init_value, final_value"
      ],
      "metadata": {
        "colab": {
          "base_uri": "https://localhost:8080/"
        },
        "id": "yUwtwKL6fydE",
        "outputId": "6af9e988-a8ac-41bd-c9f4-fe1af9d7aed1"
      },
      "execution_count": 13,
      "outputs": [
        {
          "output_type": "execute_result",
          "data": {
            "text/plain": [
              "(0, 0)"
            ]
          },
          "metadata": {},
          "execution_count": 13
        }
      ]
    },
    {
      "cell_type": "code",
      "source": [
        "score = 100\n",
        "score+=50 #augmented assignment equivalent to score = score+50\n",
        "score"
      ],
      "metadata": {
        "colab": {
          "base_uri": "https://localhost:8080/"
        },
        "id": "7EpOo8dogcPG",
        "outputId": "8508fc16-7f5c-4b4b-92c7-29c97f5a3f2f"
      },
      "execution_count": 14,
      "outputs": [
        {
          "output_type": "execute_result",
          "data": {
            "text/plain": [
              "150"
            ]
          },
          "metadata": {},
          "execution_count": 14
        }
      ]
    },
    {
      "cell_type": "markdown",
      "source": [
        "# Function Calls"
      ],
      "metadata": {
        "id": "nDFakAJhjqAG"
      }
    },
    {
      "cell_type": "code",
      "source": [
        "#user defined function\n",
        "def func():\n",
        "  print (\"function called\") #call to an inbuilt function called print\n",
        "\n",
        "\n",
        "func() #call to the user defined function"
      ],
      "metadata": {
        "colab": {
          "base_uri": "https://localhost:8080/"
        },
        "id": "9v9k46nHgsqA",
        "outputId": "8a147ea3-67a0-409c-a39c-d3eea661ce3e"
      },
      "execution_count": 15,
      "outputs": [
        {
          "output_type": "stream",
          "name": "stdout",
          "text": [
            "function called\n"
          ]
        }
      ]
    },
    {
      "cell_type": "markdown",
      "source": [
        "# Conditional Statements"
      ],
      "metadata": {
        "id": "fzIpuJY8kmi_"
      }
    },
    {
      "cell_type": "code",
      "source": [
        "if (1<2):\n",
        "  print(\"That is what we have learnt\")"
      ],
      "metadata": {
        "colab": {
          "base_uri": "https://localhost:8080/"
        },
        "id": "SuUyUQ2uj6VH",
        "outputId": "7e6200d2-bb66-4bcf-dd04-b67276e8e112"
      },
      "execution_count": 16,
      "outputs": [
        {
          "output_type": "stream",
          "name": "stdout",
          "text": [
            "That is what we have learnt\n"
          ]
        }
      ]
    },
    {
      "cell_type": "code",
      "source": [
        "#with an else for alternate condition\n",
        "if (2<1):\n",
        "  print(\"That is not what we learnt\")\n",
        "else:\n",
        "  print(\"Seems like you know counting\")"
      ],
      "metadata": {
        "colab": {
          "base_uri": "https://localhost:8080/"
        },
        "id": "GfmoZb2KkAeE",
        "outputId": "380203c2-aa42-4cf2-92df-e149cab12bb2"
      },
      "execution_count": 17,
      "outputs": [
        {
          "output_type": "stream",
          "name": "stdout",
          "text": [
            "Seems like you know counting\n"
          ]
        }
      ]
    },
    {
      "cell_type": "code",
      "source": [
        "# with elifs for multiple conditinal checks\n",
        "num1 = 7\n",
        "\n",
        "if num1 < 5:\n",
        "  print(\"It is less than 5\")\n",
        "elif num1 >5:\n",
        "  print(\"It is greater than 5\")\n",
        "else:\n",
        "  print(\"It is a 5\")\n",
        "\n"
      ],
      "metadata": {
        "colab": {
          "base_uri": "https://localhost:8080/"
        },
        "id": "Sv-W4OzolRVh",
        "outputId": "027ca8f9-5a61-4ca5-e8e8-29e04411c6ae"
      },
      "execution_count": 19,
      "outputs": [
        {
          "output_type": "stream",
          "name": "stdout",
          "text": [
            "It is greater than 5\n"
          ]
        }
      ]
    },
    {
      "cell_type": "markdown",
      "source": [
        "# Loops\n",
        "* while\n",
        "* for"
      ],
      "metadata": {
        "id": "QaZ37Jh_sVI0"
      }
    },
    {
      "cell_type": "code",
      "source": [
        "count = 1\n",
        "while count <= 6:\n",
        "  print(\"I am a counting loop and my count is \", count)\n",
        "  count+=1"
      ],
      "metadata": {
        "colab": {
          "base_uri": "https://localhost:8080/"
        },
        "id": "diAihmh5rtmg",
        "outputId": "7d5c21e8-7c89-4464-ab98-6c5c5a56837a"
      },
      "execution_count": 21,
      "outputs": [
        {
          "output_type": "stream",
          "name": "stdout",
          "text": [
            "I am a counting loop and my count is  1\n",
            "I am a counting loop and my count is  2\n",
            "I am a counting loop and my count is  3\n",
            "I am a counting loop and my count is  4\n",
            "I am a counting loop and my count is  5\n",
            "I am a counting loop and my count is  6\n"
          ]
        }
      ]
    },
    {
      "cell_type": "code",
      "source": [
        "for count in range(1,7):\n",
        "  print(\"I am a counting loop and my count is \", count)"
      ],
      "metadata": {
        "colab": {
          "base_uri": "https://localhost:8080/"
        },
        "id": "pHQEYe2eRZkA",
        "outputId": "faa2cff0-a435-44d7-850f-58b71232b21e"
      },
      "execution_count": 22,
      "outputs": [
        {
          "output_type": "stream",
          "name": "stdout",
          "text": [
            "I am a counting loop and my count is  1\n",
            "I am a counting loop and my count is  2\n",
            "I am a counting loop and my count is  3\n",
            "I am a counting loop and my count is  4\n",
            "I am a counting loop and my count is  5\n",
            "I am a counting loop and my count is  6\n"
          ]
        }
      ]
    },
    {
      "cell_type": "markdown",
      "source": [
        "Keywords to change the flow of control in loops\n",
        "\n",
        "* break\n",
        "* continue\n",
        "* pass\n",
        "\n",
        "\n",
        "\n"
      ],
      "metadata": {
        "id": "BDQFq_jItZ5n"
      }
    },
    {
      "cell_type": "code",
      "source": [
        "count = 0\n",
        "while count <= 6:\n",
        "  count+=1\n",
        "  if count==3:\n",
        "    print(\"Break!!!\") #exits  the loop\n",
        "    break\n",
        "  print(\"I am a counting loop and my count is \", count)\n",
        ""
      ],
      "metadata": {
        "colab": {
          "base_uri": "https://localhost:8080/"
        },
        "id": "2G8lL52gIzXs",
        "outputId": "cf57c53b-ff2c-41a6-88c0-7d2101df425c"
      },
      "execution_count": 23,
      "outputs": [
        {
          "output_type": "stream",
          "name": "stdout",
          "text": [
            "I am a counting loop and my count is  1\n",
            "I am a counting loop and my count is  2\n",
            "Break!!!\n"
          ]
        }
      ]
    },
    {
      "cell_type": "code",
      "source": [
        "for count in range(1,7):\n",
        "  if count==3:\n",
        "    print(\"Break!!!\") #exits the loop\n",
        "    break\n",
        "  print(\"I am a counting loop and my count is \", count)"
      ],
      "metadata": {
        "colab": {
          "base_uri": "https://localhost:8080/"
        },
        "id": "TuzNRYEDRoB1",
        "outputId": "17c51ce8-8d54-42c0-caa1-560424888d48"
      },
      "execution_count": 24,
      "outputs": [
        {
          "output_type": "stream",
          "name": "stdout",
          "text": [
            "I am a counting loop and my count is  1\n",
            "I am a counting loop and my count is  2\n",
            "Break!!!\n"
          ]
        }
      ]
    },
    {
      "cell_type": "code",
      "source": [
        "count = 0\n",
        "while count <= 6:\n",
        "  count+=1\n",
        "  if count==3:\n",
        "    print(\"It is a special case of 3\")\n",
        "    #used to do something for a special case\n",
        "    # and then continue with the loop\n",
        "    pass\n",
        "  print(\"I am a counting loop and my count is \", count)\n",
        ""
      ],
      "metadata": {
        "colab": {
          "base_uri": "https://localhost:8080/"
        },
        "id": "BKYTPUwiI8O2",
        "outputId": "0ed6a71d-3bcf-473e-ced9-2592bee1c6be"
      },
      "execution_count": 25,
      "outputs": [
        {
          "output_type": "stream",
          "name": "stdout",
          "text": [
            "I am a counting loop and my count is  1\n",
            "I am a counting loop and my count is  2\n",
            "It is a special case of 3\n",
            "I am a counting loop and my count is  3\n",
            "I am a counting loop and my count is  4\n",
            "I am a counting loop and my count is  5\n",
            "I am a counting loop and my count is  6\n",
            "I am a counting loop and my count is  7\n"
          ]
        }
      ]
    },
    {
      "cell_type": "code",
      "source": [
        "for count in range(1,7):\n",
        "  if count==3:\n",
        "    print(\"It is a special case of 3\")\n",
        "    # used to do something for a special case\n",
        "    # and then continue with the loop\n",
        "    pass\n",
        "  print(\"I am a counting loop and my count is \", count)"
      ],
      "metadata": {
        "colab": {
          "base_uri": "https://localhost:8080/"
        },
        "id": "UGOoF5kRR1kd",
        "outputId": "e4097769-d7af-4adb-ce5b-262598f150d7"
      },
      "execution_count": 26,
      "outputs": [
        {
          "output_type": "stream",
          "name": "stdout",
          "text": [
            "I am a counting loop and my count is  1\n",
            "I am a counting loop and my count is  2\n",
            "It is a special case of 3\n",
            "I am a counting loop and my count is  3\n",
            "I am a counting loop and my count is  4\n",
            "I am a counting loop and my count is  5\n",
            "I am a counting loop and my count is  6\n"
          ]
        }
      ]
    },
    {
      "cell_type": "code",
      "source": [
        "count = 0\n",
        "while count <= 6:\n",
        "  count+=1\n",
        "  if count==3:\n",
        "\n",
        "    continue\n",
        "  print(\"I am a counting loop and my count is \", count)\n",
        ""
      ],
      "metadata": {
        "colab": {
          "base_uri": "https://localhost:8080/"
        },
        "id": "XYGt4ZsBtTuc",
        "outputId": "811f59b3-de28-4b94-e875-c20ced779871"
      },
      "execution_count": 27,
      "outputs": [
        {
          "output_type": "stream",
          "name": "stdout",
          "text": [
            "I am a counting loop and my count is  1\n",
            "I am a counting loop and my count is  2\n",
            "I am a counting loop and my count is  4\n",
            "I am a counting loop and my count is  5\n",
            "I am a counting loop and my count is  6\n",
            "I am a counting loop and my count is  7\n"
          ]
        }
      ]
    },
    {
      "cell_type": "code",
      "source": [
        "for count in range(1,7):\n",
        "  if count==3:\n",
        "    # continue with the loop by skipping the rest of the block\n",
        "    continue\n",
        "  print(\"I am a counting loop and my count is \", count)"
      ],
      "metadata": {
        "colab": {
          "base_uri": "https://localhost:8080/"
        },
        "id": "sot6Xx2sR_ME",
        "outputId": "2dd55394-ed43-4a81-ea23-6675efb7b526"
      },
      "execution_count": 28,
      "outputs": [
        {
          "output_type": "stream",
          "name": "stdout",
          "text": [
            "I am a counting loop and my count is  1\n",
            "I am a counting loop and my count is  2\n",
            "I am a counting loop and my count is  4\n",
            "I am a counting loop and my count is  5\n",
            "I am a counting loop and my count is  6\n"
          ]
        }
      ]
    },
    {
      "cell_type": "code",
      "source": [],
      "metadata": {
        "id": "hfHgifcppnhR"
      },
      "execution_count": null,
      "outputs": []
    }
  ]
}